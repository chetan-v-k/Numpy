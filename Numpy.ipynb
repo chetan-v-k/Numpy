{
 "cells": [
  {
   "cell_type": "markdown",
   "metadata": {},
   "source": [
    "1. Getting started with NumPy"
   ]
  },
  {
   "cell_type": "code",
   "execution_count": 20,
   "metadata": {},
   "outputs": [
    {
     "name": "stdout",
     "output_type": "stream",
     "text": [
      "[1 2 3 4 5]\n",
      "-------------------------------------------------\n",
      "[[1, 2, 3], [4, 5, 6], [7, 8, 9]]\n",
      "<class 'list'>\n",
      "-------------------------------------------------\n",
      "[[1 2 3]\n",
      " [4 5 6]\n",
      " [7 8 9]]\n",
      "-------------------------------------------------\n",
      "[[1 2 3]\n",
      " [4 5 6]\n",
      " [7 8 9]]\n",
      "-------------------------------------------------\n",
      "<class 'numpy.ndarray'>\n",
      "-------------------------------------------------\n",
      "2\n",
      "-------------------------------------------------\n",
      "(3, 3)\n",
      "-------------------------------------------------\n",
      "9\n",
      "-------------------------------------------------\n",
      "int32\n",
      "-------------------------------------------------\n",
      "[[0. 0. 0.]\n",
      " [0. 0. 0.]\n",
      " [0. 0. 0.]]\n",
      "-------------------------------------------------\n"
     ]
    },
    {
     "data": {
      "text/plain": [
       "array([[1., 1., 1.],\n",
       "       [1., 1., 1.],\n",
       "       [1., 1., 1.]])"
      ]
     },
     "execution_count": 20,
     "metadata": {},
     "output_type": "execute_result"
    }
   ],
   "source": [
    "#NumPy by GFG \n",
    "import numpy as np\n",
    "a = np.array([1,2,3,4,5])\n",
    "print(a)\n",
    "\n",
    "print('-------------------------------------------------')\n",
    "\n",
    "lst = [[1,2,3],\n",
    "    [4,5,6],\n",
    "    [7,8,9]]\n",
    "print(lst)\n",
    "print(type(lst))\n",
    "print('-------------------------------------------------')\n",
    "\n",
    "arr = np.array(lst)         #converting the list into array\n",
    "print(arr)\n",
    "\n",
    "print('-------------------------------------------------')\n",
    "\n",
    "print(arr)\n",
    "\n",
    "print('-------------------------------------------------')\n",
    "\n",
    "print(type(arr))\n",
    "\n",
    "print('-------------------------------------------------')\n",
    "\n",
    "print(arr.ndim)   #shows dimension of the array\n",
    "\n",
    "print('-------------------------------------------------')\n",
    "\n",
    "print(arr.shape)     #this gives the shape of the array (rows, columns) : (3, 3)\n",
    "\n",
    "print('-------------------------------------------------')\n",
    "\n",
    "print(arr.size)      #gives the size(no. of elements) in the array\n",
    "\n",
    "print('-------------------------------------------------')\n",
    "\n",
    "print(arr.dtype)         #This is integer of 32 base; it tells what type of data is stored in the numpy array.\n",
    "\n",
    "print('-------------------------------------------------')\n",
    "\n",
    "zeroes = np.zeros((3,3))                 #this prints an n-dimensional array of shape(n,m) with all the elements as 0\n",
    "print(zeroes)\n",
    "\n",
    "print('-------------------------------------------------')\n",
    "\n",
    "ones = np.ones((3,3))                      #this prints an n-dimensional array of shape (n,m) with all the elements as 1\n",
    "ones\n"
   ]
  },
  {
   "cell_type": "markdown",
   "metadata": {},
   "source": [
    "2. Reshaping the array and Random number generator"
   ]
  },
  {
   "cell_type": "code",
   "execution_count": 21,
   "metadata": {},
   "outputs": [
    {
     "data": {
      "text/plain": [
       "array([[0.17101226, 0.7164853 , 0.87921061],\n",
       "       [0.78743858, 0.23054001, 0.69339879],\n",
       "       [0.94265592, 0.17878615, 0.82173528]])"
      ]
     },
     "execution_count": 21,
     "metadata": {},
     "output_type": "execute_result"
    }
   ],
   "source": [
    "import numpy as np\n",
    "#generating the random number, which is very useful in game developing algorithms\n",
    "np.random.random((3,3))                  #this generates the array of shape (3,3) with element ranging from 0-1"
   ]
  },
  {
   "cell_type": "code",
   "execution_count": 22,
   "metadata": {},
   "outputs": [
    {
     "data": {
      "text/plain": [
       "0.46352394320164647"
      ]
     },
     "execution_count": 22,
     "metadata": {},
     "output_type": "execute_result"
    }
   ],
   "source": [
    "#generate the random number between 0-1\n",
    "np.random.random() "
   ]
  },
  {
   "cell_type": "code",
   "execution_count": 23,
   "metadata": {},
   "outputs": [
    {
     "name": "stdout",
     "output_type": "stream",
     "text": [
      "run the function\n"
     ]
    }
   ],
   "source": [
    "if np.random.random() > 0.5:\n",
    "    print(\"run the function\")\n",
    "else:\n",
    "    print(\"Don't run the function\")\n",
    "    "
   ]
  },
  {
   "cell_type": "code",
   "execution_count": 24,
   "metadata": {},
   "outputs": [
    {
     "data": {
      "text/plain": [
       "array([ 1,  4,  7, 10])"
      ]
     },
     "execution_count": 24,
     "metadata": {},
     "output_type": "execute_result"
    }
   ],
   "source": [
    "#To generate the random in sequence(or in some order)\n",
    "np.arange(1,11,3)                       #This arange() function is like for loop which will have starting index, stop index, step index\n",
    "#np.random(start,end,step)"
   ]
  },
  {
   "cell_type": "code",
   "execution_count": 25,
   "metadata": {},
   "outputs": [
    {
     "data": {
      "text/plain": [
       "array([ 1. ,  1.9,  2.8,  3.7,  4.6,  5.5,  6.4,  7.3,  8.2,  9.1, 10. ])"
      ]
     },
     "execution_count": 25,
     "metadata": {},
     "output_type": "execute_result"
    }
   ],
   "source": [
    "np.linspace(1,10,11)                #this is also same like np.arange which starts from : goes till the end with equidistance\n",
    "#np.linspace(START, END, how many elements do you want between 1-10)\n"
   ]
  },
  {
   "cell_type": "code",
   "execution_count": null,
   "metadata": {},
   "outputs": [],
   "source": [
    "import pandas as pd\n",
    "a = pd.DataFrame([pd.arange[0,90,3]])"
   ]
  },
  {
   "cell_type": "code",
   "execution_count": 26,
   "metadata": {},
   "outputs": [
    {
     "name": "stdout",
     "output_type": "stream",
     "text": [
      "[[0.17293396 0.91282762 0.8518282 ]\n",
      " [0.39909512 0.54152641 0.65110147]\n",
      " [0.94934015 0.69161803 0.29142142]\n",
      " [0.37619096 0.89464297 0.42356833]]\n"
     ]
    }
   ],
   "source": [
    "#Reshaping an array\n",
    "a = np.random.random((4,3))\n",
    "print(a)"
   ]
  },
  {
   "cell_type": "code",
   "execution_count": 27,
   "metadata": {},
   "outputs": [
    {
     "data": {
      "text/plain": [
       "(4, 3)"
      ]
     },
     "execution_count": 27,
     "metadata": {},
     "output_type": "execute_result"
    }
   ],
   "source": [
    "a.shape "
   ]
  },
  {
   "cell_type": "code",
   "execution_count": 28,
   "metadata": {},
   "outputs": [
    {
     "data": {
      "text/plain": [
       "12"
      ]
     },
     "execution_count": 28,
     "metadata": {},
     "output_type": "execute_result"
    }
   ],
   "source": [
    "a.size"
   ]
  },
  {
   "cell_type": "code",
   "execution_count": 29,
   "metadata": {},
   "outputs": [
    {
     "data": {
      "text/plain": [
       "dtype('float64')"
      ]
     },
     "execution_count": 29,
     "metadata": {},
     "output_type": "execute_result"
    }
   ],
   "source": [
    "a.dtype"
   ]
  },
  {
   "cell_type": "code",
   "execution_count": 30,
   "metadata": {},
   "outputs": [
    {
     "data": {
      "text/plain": [
       "array([[0.17293396, 0.91282762, 0.8518282 , 0.39909512],\n",
       "       [0.54152641, 0.65110147, 0.94934015, 0.69161803],\n",
       "       [0.29142142, 0.37619096, 0.89464297, 0.42356833]])"
      ]
     },
     "execution_count": 30,
     "metadata": {},
     "output_type": "execute_result"
    }
   ],
   "source": [
    "a = np.reshape(a, (3,4))                     #reshaping the shape of the array using reshape() function\n",
    "a\n",
    "#here we have to just call the old array, shape of the array(which shape we wanted) "
   ]
  },
  {
   "cell_type": "markdown",
   "metadata": {},
   "source": [
    "When we can reshape an array?  Can be done only when the array is of the same size."
   ]
  },
  {
   "cell_type": "code",
   "execution_count": 31,
   "metadata": {},
   "outputs": [
    {
     "data": {
      "text/plain": [
       "array([0.17293396, 0.91282762, 0.8518282 , 0.39909512, 0.54152641,\n",
       "       0.65110147, 0.94934015, 0.69161803, 0.29142142, 0.37619096,\n",
       "       0.89464297, 0.42356833])"
      ]
     },
     "execution_count": 31,
     "metadata": {},
     "output_type": "execute_result"
    }
   ],
   "source": [
    "#flatten() function which converts the 2D into 1D array\n",
    "a.flatten()\n",
    "#name_of_the_function.flatten()"
   ]
  },
  {
   "cell_type": "markdown",
   "metadata": {},
   "source": [
    "3. Arithmetic Operations on Array"
   ]
  },
  {
   "cell_type": "code",
   "execution_count": 32,
   "metadata": {},
   "outputs": [
    {
     "name": "stdout",
     "output_type": "stream",
     "text": [
      "[1 2 3 4 5]\n",
      "[2 3 4 5 6]\n",
      "[0 1 2 3 4]\n",
      "[ 2  4  6  8 10]\n",
      "[0.5 1.  1.5 2.  2.5]\n",
      "[0 1 1 2 2]\n",
      "[ 1  4  9 16 25]\n",
      "5\n",
      "1\n",
      "[[1 2 3]\n",
      " [4 5 6]\n",
      " [7 8 9]]\n",
      "[7 8 9]\n",
      "[3 6 9]\n",
      "[1 2 3]\n",
      "[1 4 7]\n",
      "45\n"
     ]
    }
   ],
   "source": [
    "import numpy as np\n",
    "arr = np.array([1,2,3,4,5])\n",
    "print(arr) \n",
    "\n",
    "#Add 1 to all the elements of the array  [expected o/t : [2,3,4,5,6,7]]\n",
    "print(arr + 1)\n",
    "print(arr - 1)\n",
    "print(arr * 2)\n",
    "print(arr / 2)\n",
    "print(arr // 2)\n",
    "print(arr ** 2)\n",
    "print(arr.max())    #returns the maximum element in the array, arr\n",
    "print(arr.min())    #similarly returns the minimum element\n",
    "\n",
    "#create a 2D array\n",
    "a = np.array([[1,2,3],\n",
    "            [4,5,6],\n",
    "            [7,8,9]])\n",
    "print(a)\n",
    "#find out the max and min element in the 2D array\n",
    "print(a.max(axis = 0))   #this gives the maximum element in the column for example 7 in 1st, 8 in 2nd, 9 in 3rd column\n",
    "print(a.max(axis = 1))   #axis = 0 for column and axis = 1 for row\n",
    "print(a.min(axis = 0))   #this gives the minimum element in the column for example 1 in 1st, 4 in 2nd, 7 inn 3rd column\n",
    "print(a.min(axis = 1))\n",
    "print(a.sum())           #this gives the sum of all the elements of the array"
   ]
  },
  {
   "cell_type": "markdown",
   "metadata": {},
   "source": [
    "4. Arithmetic Operations on Multiple Arrays\n"
   ]
  },
  {
   "cell_type": "code",
   "execution_count": null,
   "metadata": {},
   "outputs": [
    {
     "name": "stdout",
     "output_type": "stream",
     "text": [
      "[[10 10 10]\n",
      " [10 10 10]\n",
      " [10 10 10]]\n",
      "--------------\n",
      "[[-8 -6 -4]\n",
      " [-2  0  2]\n",
      " [ 4  6  8]]\n",
      "--------------\n",
      "[[ 9 16 21]\n",
      " [24 25 24]\n",
      " [21 16  9]]\n",
      "--------------\n",
      "[[ 30  24  18]\n",
      " [ 84  69  54]\n",
      " [138 114  90]]\n",
      "--------------\n",
      "[[ 90 114 138]\n",
      " [ 54  69  84]\n",
      " [ 18  24  30]]\n",
      "--------------\n",
      "#1\n",
      "1\n",
      "--------------\n",
      "#2\n",
      "[1 2 3]\n",
      "[1 4 7]\n",
      "--------------\n",
      "#3\n",
      "[[9 8 7]\n",
      " [6 5 4]]\n",
      "[[8 7]\n",
      " [5 4]\n",
      " [2 1]]\n",
      "--------------\n",
      "#4\n",
      "[[5]]\n",
      "--------------\n",
      "#5\n",
      "[[5 6]\n",
      " [8 9]]\n",
      "--------------\n",
      "#6\n",
      "[9 3]\n",
      "[[9 7]\n",
      " [6 4]\n",
      " [3 1]]\n",
      "--------------\n",
      "#7\n",
      "[9 8 7 5 6 5 4 3 5]\n"
     ]
    }
   ],
   "source": [
    "import numpy as np\n",
    "a1 = np.array([[1,2,3],\n",
    "            [4,5,6],\n",
    "            [7,8,9]])\n",
    "\n",
    "a2 = np.array([[9,8,7],\n",
    "            [6,5,4],\n",
    "            [3,2,1]])\n",
    "\n",
    "a3 = np.array([[9,8,7,5],\n",
    "            [6,5,4,2],\n",
    "            [3,2,1,5]])\n",
    "\n",
    "\n",
    "#adding 2D arrays\n",
    "print(a1 + a2)\n",
    "print('--------------')\n",
    "#print(a1 + a3)   #This can't be added bcz both the arrayss are of different shape\n",
    "print(a1 - a2)\n",
    "print('--------------')\n",
    "print(a1 * a2)\n",
    "print('--------------')\n",
    "#Dot product(multiplication)\n",
    "a = a1.dot(a2)     #multiplies each row element with corresponding column element\n",
    "print(a)\n",
    "print('--------------')\n",
    "b = a2.dot(a1)\n",
    "print(b)\n",
    "print('--------------')\n",
    "\n",
    "#Indexing of an 2D array\n",
    "print(a1[0, 0])              #a1[row_index, column_index]\n",
    "print('--------------')\n",
    "print(a1[0, :])              #Row access - access the entire 0th row\n",
    "print(a1[: , 0])             #Column access - access the entire 0th column\n",
    "print('--------------')\n",
    "\n",
    "#Slicing - this allows us to extract subarryas using the format [start:end:step]\n",
    "\n",
    "print(a2[0:2, :])            #slice the first 2 rows of the array a2 \n",
    "print(a2[: , 1:3])           #slice the last 2 columns of the array a2\n",
    "print('--------------') \n",
    "print(a1[1:2, 1:2])          #slice the  1st row and 1st column\n",
    "print('--------------')\n",
    "print(a1[1: , 1:])           #slice the 1st till last row and 1st till last column elements\n",
    "print('--------------')\n",
    "\n",
    "#Fancy indexing - access the specific rows & columns using lists or arrays of indices\n",
    "\n",
    "print(a2[[0,2], 0])         #slicing the first & third rows.\n",
    "print(a2[: , [0,2]])        #slice the first & third columns\n",
    "print('--------------')\n",
    "\n",
    "#Boolean indexing - allows you to filter elements based on conditions\n",
    "\n",
    "print(a3[a3>2])             #access the elements that are greater than 2\n",
    "\n"
   ]
  },
  {
   "cell_type": "markdown",
   "metadata": {},
   "source": [
    "4. Array Sorting"
   ]
  },
  {
   "cell_type": "code",
   "execution_count": 34,
   "metadata": {},
   "outputs": [
    {
     "name": "stdout",
     "output_type": "stream",
     "text": [
      "[[7 3 2 1 5]\n",
      " [5 4 2 6 7]\n",
      " [1 5 7 9 2]]\n",
      "--------------\n",
      "[[1 2 3 5 7]\n",
      " [2 4 5 6 7]\n",
      " [1 2 5 7 9]]\n",
      "--------------\n",
      "[[1 3 2 1 2]\n",
      " [5 4 2 6 5]\n",
      " [7 5 7 9 7]]\n",
      "--------------\n",
      "[[1 2 3 5 7]\n",
      " [2 4 5 6 7]\n",
      " [1 2 5 7 9]]\n"
     ]
    }
   ],
   "source": [
    "import numpy as np\n",
    "a = np.array([[7,3,2,1,5], [5,4,2,6,7],[1,5,7,9,2]])\n",
    "print(a)\n",
    "print('--------------')\n",
    "\n",
    "#sorting using np.sort()\n",
    "print(np.sort(a, axis = 1, kind = 'mergesort'))           #row wise sorting\n",
    "print('--------------')\n",
    "print(np.sort(a, axis = 0, kind = 'quicksort'))           #column wise sorting\n",
    "print('--------------')\n",
    "print(np.sort(a, kind = 'mergesort'))                     #default row wise sort\n",
    "\n",
    "\n"
   ]
  },
  {
   "cell_type": "markdown",
   "metadata": {},
   "source": [
    "5. Array Merging"
   ]
  },
  {
   "cell_type": "code",
   "execution_count": 35,
   "metadata": {},
   "outputs": [
    {
     "name": "stdout",
     "output_type": "stream",
     "text": [
      "[[1 2 3 4]\n",
      " [5 6 7 8]]\n",
      "------------\n",
      "[[8 7 6 5]\n",
      " [4 3 2 1]]\n",
      "------------\n",
      "[[1 2 3 4]\n",
      " [5 6 7 8]\n",
      " [8 7 6 5]\n",
      " [4 3 2 1]]\n",
      "------------\n",
      "[[8 7 6 5]\n",
      " [4 3 2 1]\n",
      " [1 2 3 4]\n",
      " [5 6 7 8]]\n",
      "------------\n",
      "[[1 2 3 4 8 7 6 5]\n",
      " [5 6 7 8 4 3 2 1]]\n",
      "------------\n",
      "[[8 7 6 5 1 2 3 4]\n",
      " [4 3 2 1 5 6 7 8]]\n",
      "------------\n",
      "[[1 2 3 4]\n",
      " [5 6 7 8]\n",
      " [8 7 6 5]\n",
      " [4 3 2 1]]\n",
      "------------\n",
      "[[1 2 3 4 8 7 6 5]\n",
      " [5 6 7 8 4 3 2 1]]\n",
      "------------\n",
      "[array([[1, 2],\n",
      "       [5, 6]]), array([[3, 4],\n",
      "       [7, 8]])]\n",
      "------------\n",
      "[array([[1, 2, 3, 4]]), array([[5, 6, 7, 8]])]\n"
     ]
    }
   ],
   "source": [
    "#Lets learn how to concatinate the array\n",
    "import numpy as np\n",
    "a1 = np.array([[1,2,3,4],[5,6,7,8]])\n",
    "a2 = np.array([[8,7,6,5],[4,3,2,1]])\n",
    "print(a1)\n",
    "print('------------')\n",
    "print(a2)\n",
    "print('------------')\n",
    "#VERTTICAL STACK\n",
    "print(np.vstack((a1,a2)))             #np.vstack is used for merging 2 arrays into 1\n",
    "print('------------')\n",
    "print(np.vstack((a2, a1)))             #reversing the arrays and merging\n",
    "print('------------')\n",
    "#HORIZONTAL STACK\n",
    "print(np.hstack((a1, a2)))             #horizontal stacking the 2 arrays\n",
    "print('------------')\n",
    "print(np.hstack((a2, a1)))\n",
    "print('------------')\n",
    "print(np.concatenate((a1, a2), axis = 0))     #default axis = 0 (column wise)\n",
    "print('------------')\n",
    "print(np.concatenate((a1, a2), axis = 1))\n",
    "print('------------')\n",
    "\n",
    "#Splitting\n",
    "# horizontally\n",
    "print(np.hsplit(a1, 2))\n",
    "print('------------')\n",
    "# vertically\n",
    "print(np.vsplit(a1, 2))"
   ]
  },
  {
   "cell_type": "markdown",
   "metadata": {},
   "source": [
    "Video 6 Array Slicing"
   ]
  },
  {
   "cell_type": "code",
   "execution_count": 36,
   "metadata": {},
   "outputs": [
    {
     "name": "stdout",
     "output_type": "stream",
     "text": [
      "1\n",
      "------------\n",
      "[1 2]\n",
      "------------\n",
      "[[1 2 3 4]\n",
      " [5 6 7 8]\n",
      " [8 7 6 5]\n",
      " [4 3 2 1]]\n",
      "------------\n",
      "[[1 2 3 4]\n",
      " [5 6 7 8]\n",
      " [8 7 6 5]\n",
      " [4 3 2 1]]\n",
      "------------\n",
      "[[5 6 7 8]\n",
      " [8 7 6 5]\n",
      " [4 3 2 1]]\n",
      "------------\n",
      "[8 7 6 5]\n",
      "------------\n",
      "[[6 7 8]\n",
      " [7 6 5]\n",
      " [3 2 1]]\n",
      "------------\n",
      "[[6]\n",
      " [7]\n",
      " [3]]\n",
      "------------\n",
      "6\n",
      "[[6]\n",
      " [7]\n",
      " [3]]\n",
      "------------\n",
      "7\n",
      "[[6]\n",
      " [7]\n",
      " [3]]\n",
      "------------\n",
      "[[7 6 5]\n",
      " [3 2 1]]\n"
     ]
    }
   ],
   "source": [
    "import numpy as np\n",
    "a = np.array([1,2,3,4,5,6,7,8,9])\n",
    "print(a[0])\n",
    "print('------------')\n",
    "print(a[ : 2])\n",
    "print('------------')\n",
    "a1 = np.array([[1,2,3,4],\n",
    "            [5,6,7,8],\n",
    "            [8,7,6,5],\n",
    "            [4,3,2,1]])\n",
    "print(a1)\n",
    "print('------------')\n",
    "#a( : , : ) --> a(row_condition , col_condition)\n",
    "print(a1[ : , : ])       #printing all elements\n",
    "print('------------')\n",
    "print(a1[1: , : ])       #1st,2nd, 3rd rows & all columns\n",
    "print('------------')\n",
    "print(a1[2, : ])         #only 1st row & all columns\n",
    "print('------------')\n",
    "print(a1[1 : , 1 : ])    #selecting 1st, 2nd, 3rd - rows & columns\n",
    "print('------------')\n",
    "print(a1[1 : , 1 : 2])   #selected only 1st column and 1st, 2nd, 3rd rows\n",
    "print('------------')\n",
    "print(a1[2,2])           #selected 2nd row and column\n",
    "print(a1[1 : , 1 : 2])   #selected only 1st column and 1st, 2nd, 3rd rows\n",
    "print('------------')\n",
    "print(a1[2,1])\n",
    "print(a1[1 : , 1 : 2])   #selected only 1st column and 1st, 2nd, 3rd rows\n",
    "print('------------')\n",
    "#Cropping the elements\n",
    "print(a1[2 : , 1 : ])"
   ]
  },
  {
   "cell_type": "markdown",
   "metadata": {},
   "source": [
    "Video 7 Automating using NumPy"
   ]
  },
  {
   "cell_type": "code",
   "execution_count": 37,
   "metadata": {},
   "outputs": [
    {
     "name": "stdout",
     "output_type": "stream",
     "text": [
      "6\n",
      "------------------------------------\n",
      "[False False False False False  True  True  True  True  True]\n"
     ]
    },
    {
     "data": {
      "text/plain": [
       "array([ 6,  7,  8,  9, 10])"
      ]
     },
     "execution_count": 37,
     "metadata": {},
     "output_type": "execute_result"
    }
   ],
   "source": [
    "import numpy as np\n",
    "lst = [1,2,3,4,5,6,7,8,9,10]\n",
    "count = 0\n",
    "for i in lst:\n",
    "    if(i>4):\n",
    "        count += 1\n",
    "    \n",
    "print(count)\n",
    "\n",
    "print('------------------------------------')\n",
    "arr = np.array([1,2,3,4,5,6,7,8,9,10])\n",
    "print(arr > 5)\n",
    "arr[arr > 5]"
   ]
  },
  {
   "cell_type": "code",
   "execution_count": 38,
   "metadata": {},
   "outputs": [
    {
     "name": "stdout",
     "output_type": "stream",
     "text": [
      "[1, 2, 3, 'I', 'am', 'chetan']\n"
     ]
    }
   ],
   "source": [
    "list = [1,2,3,'I', 'am','chetan']\n",
    "print(list)"
   ]
  },
  {
   "cell_type": "code",
   "execution_count": null,
   "metadata": {},
   "outputs": [],
   "source": []
  }
 ],
 "metadata": {
  "kernelspec": {
   "display_name": "Python 3",
   "language": "python",
   "name": "python3"
  },
  "language_info": {
   "codemirror_mode": {
    "name": "ipython",
    "version": 3
   },
   "file_extension": ".py",
   "mimetype": "text/x-python",
   "name": "python",
   "nbconvert_exporter": "python",
   "pygments_lexer": "ipython3",
   "version": "3.12.0"
  }
 },
 "nbformat": 4,
 "nbformat_minor": 2
}
